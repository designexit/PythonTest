{
 "cells": [
  {
   "cell_type": "code",
   "execution_count": 6,
   "metadata": {},
   "outputs": [
    {
     "name": "stdout",
     "output_type": "stream",
     "text": [
      "리스트 출력해보기.:[1, 2, 3, 4.5, 'kmk']\n",
      "alist의 타입 : <class 'list'>\n",
      "a의 타입 : <class 'int'>\n",
      "인덱싱 : 0번째 요소 : 1\n"
     ]
    }
   ],
   "source": [
    "#리스트, 주의. 다른형끼리 가능\n",
    "alist = [1,2,3,4.5, 'kmk']\n",
    "print(f\"리스트 출력해보기.:{alist}\")\n",
    "print(f\"alist의 타입 : {type(alist)}\")\n",
    "a = 3\n",
    "print(f\"a의 타입 : {type(a)}\")\n",
    "\n",
    "#인덱싱, 슬라이싱 [a:b:c], a:시작값, b:마자막값, c:증가값\n",
    "\n",
    "print(f\"인덱싱 : 0번째 요소 : {alist[0]}\")"
   ]
  }
 ],
 "metadata": {
  "kernelspec": {
   "display_name": "Python 3",
   "language": "python",
   "name": "python3"
  },
  "language_info": {
   "codemirror_mode": {
    "name": "ipython",
    "version": 3
   },
   "file_extension": ".py",
   "mimetype": "text/x-python",
   "name": "python",
   "nbconvert_exporter": "python",
   "pygments_lexer": "ipython3",
   "version": "3.12.0"
  }
 },
 "nbformat": 4,
 "nbformat_minor": 2
}
