{
 "cells": [
  {
   "cell_type": "code",
   "execution_count": 1,
   "metadata": {},
   "outputs": [
    {
     "name": "stdout",
     "output_type": "stream",
     "text": [
      "num1이 100보다 작다\n"
     ]
    }
   ],
   "source": [
    "#if문, elif문, else문\n",
    "num1=10\n",
    "if num1 > 10:\n",
    "  print(f\"num1이 100보다 크다\")\n",
    "else:\n",
    "  print(f\"num1이 100보다 작다\")"
   ]
  },
  {
   "cell_type": "code",
   "execution_count": 2,
   "metadata": {},
   "outputs": [
    {
     "name": "stdout",
     "output_type": "stream",
     "text": [
      "num1이 100보다 크거나 같고 110보다 작다\n"
     ]
    }
   ],
   "source": [
    "#if문, elif문, else문\n",
    "num1=105\n",
    "# 1) 100보다 작을 경우\n",
    "# 2) 100이상 110보다 작을 경우\n",
    "# 3) 110보다 클 경우\n",
    "\n",
    "if num1 < 100:\n",
    "  print(f\"num1이 100보다 작다\")\n",
    "\n",
    "elif num1 < 110 and num1 >= 100:\n",
    "  print(f\"num1이 100보다 크거나 같고 110보다 작다\")\n",
    "\n",
    "else:\n",
    "  print(f\"num1이 100보다 작다\")"
   ]
  }
 ],
 "metadata": {
  "kernelspec": {
   "display_name": "Python 3",
   "language": "python",
   "name": "python3"
  },
  "language_info": {
   "codemirror_mode": {
    "name": "ipython",
    "version": 3
   },
   "file_extension": ".py",
   "mimetype": "text/x-python",
   "name": "python",
   "nbconvert_exporter": "python",
   "pygments_lexer": "ipython3",
   "version": "3.12.0"
  }
 },
 "nbformat": 4,
 "nbformat_minor": 2
}
