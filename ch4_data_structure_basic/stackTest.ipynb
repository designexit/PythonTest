{
 "cells": [
  {
   "cell_type": "code",
   "execution_count": 2,
   "metadata": {},
   "outputs": [
    {
     "name": "stdout",
     "output_type": "stream",
     "text": [
      "result 조회 해보기 : ['요', '네', '오', ' ', '가', '비', ' ', '은', '늘', '오']\n",
      "word 조회 해보기. [::-1] : 요네오 가비 은늘오\n"
     ]
    }
   ],
   "source": [
    "# list 를 함수, push(), pop() 이용해서, 스택처럼 사용해보기. \n",
    "word = input(\"문자열 입력해주세요: \")\n",
    "# input 함수 이용해서, 문자열 받고 , 다시, 문자열 -> 리스로 변환: list() 함수. \n",
    "word_list = list(word)\n",
    "\n",
    "# 임시로 저장할 빈 리스트, 참고로 전역. \n",
    "result = []\n",
    "# len 함수는 크기를 반환하는 함수. \n",
    "# word_list , pop() 함수로 꺼내서, result 임시 리스트에 담기. 반복문. \n",
    "for _ in range(len(word_list)):\n",
    "  result.append(word_list.pop())\n",
    "\n",
    "# 스택의 자료구조 형식을 이용해서 역순 출력\n",
    "print(f\"result 조회 해보기 : {result}\")\n",
    "# 단순, 슬라이싱을 이용해서, 역순 출력. \n",
    "print(f\"word 조회 해보기. [::-1] : {word[::-1]}\")\n"
   ]
  },
  {
   "cell_type": "code",
   "execution_count": 11,
   "metadata": {},
   "outputs": [
    {
     "name": "stdout",
     "output_type": "stream",
     "text": [
      "result 조회 해보기 : ['다']\n",
      "word 조회 해보기. [::-1] : 비가온다\n",
      "result 조회 해보기 : ['다', '온']\n",
      "word 조회 해보기. [::-1] : 비가온다\n",
      "result 조회 해보기 : ['다', '온', '가']\n",
      "word 조회 해보기. [::-1] : 비가온다\n",
      "result 조회 해보기 : ['다', '온', '가', '비']\n",
      "word 조회 해보기. [::-1] : 비가온다\n"
     ]
    }
   ],
   "source": [
    "word = input(\"문자열 입력해주세요: \")\n",
    "word_list = list(word)\n",
    "result = []\n",
    "for _ in range(len(word_list)):\n",
    "  result.append(word_list.pop())\n",
    "  print(f\"result 조회 해보기 : {result}\")\n",
    "  print(f\"word 조회 해보기. [::-1] : {word[::-1]}\")"
   ]
  }
 ],
 "metadata": {
  "kernelspec": {
   "display_name": "Python 3",
   "language": "python",
   "name": "python3"
  },
  "language_info": {
   "codemirror_mode": {
    "name": "ipython",
    "version": 3
   },
   "file_extension": ".py",
   "mimetype": "text/x-python",
   "name": "python",
   "nbconvert_exporter": "python",
   "pygments_lexer": "ipython3",
   "version": "3.12.0"
  }
 },
 "nbformat": 4,
 "nbformat_minor": 2
}
