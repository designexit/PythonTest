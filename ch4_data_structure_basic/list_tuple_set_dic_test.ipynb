{
 "cells": [
  {
   "cell_type": "code",
   "execution_count": 1,
   "metadata": {},
   "outputs": [
    {
     "name": "stdout",
     "output_type": "stream",
     "text": [
      "a리스트 출력 : [1, 2, 3]\n",
      "b리스트 출력 : (1, 2, 3)\n",
      "b타입 출력 : <class 'tuple'>\n",
      "c리스트 출력 : {1, 2, 3}\n",
      "c타입 출력 : <class 'set'>\n",
      "기본 딕셔너리 출력 : {'a': 1, 'b': 2, 'c': 3}\n",
      "기본 딕셔너리 출력 : dict_keys(['a', 'b', 'c'])\n",
      "기본 딕셔너리 출력 : dict_values([1, 2, 3])\n",
      "기본 딕셔너리 출력 : dict_items([('a', 1), ('b', 2), ('c', 3)])\n",
      "key : a, value : 1\n",
      "key : b, value : 2\n",
      "key : c, value : 3\n"
     ]
    }
   ],
   "source": [
    "#list - 표기 [], 순서 있음, 중복허용\n",
    "a = [1,2,3]\n",
    "print(f\"a리스트 출력 : {a}\")\n",
    "\n",
    "#tuple - 표기 (), 순서 있음, 중복허용, 상수\n",
    "b = tuple(a)\n",
    "print(f\"b리스트 출력 : {b}\")\n",
    "print(f\"b타입 출력 : {type(b)}\")\n",
    "\n",
    "#set - 집합, 순서없음, 중복불가\n",
    "c = set(a)\n",
    "print(f\"c리스트 출력 : {c}\")\n",
    "print(f\"c타입 출력 : {type(c)}\")\n",
    "\n",
    "#딕셔너리 - 표기 (), 순서 있음, 중복허용, 상수\n",
    "d = {\"a\" : 1, \"b\" : 2, \"c\" : 3}\n",
    "print(f\"기본 딕셔너리 출력 : {d}\")\n",
    "print(f\"기본 딕셔너리 출력 : {d.keys()}\")\n",
    "print(f\"기본 딕셔너리 출력 : {d.values()}\")\n",
    "print(f\"기본 딕셔너리 출력 : {d.items()}\")\n",
    "\n",
    "#반복문 딕셔너리 결함\n",
    "for k,v in d.items():\n",
    "  print(f\"key : {k}, value : {v}\")\n",
    "  \n",
    "\n"
   ]
  },
  {
   "cell_type": "code",
   "execution_count": null,
   "metadata": {},
   "outputs": [],
   "source": []
  }
 ],
 "metadata": {
  "kernelspec": {
   "display_name": "Python 3",
   "language": "python",
   "name": "python3"
  },
  "language_info": {
   "codemirror_mode": {
    "name": "ipython",
    "version": 3
   },
   "file_extension": ".py",
   "mimetype": "text/x-python",
   "name": "python",
   "nbconvert_exporter": "python",
   "pygments_lexer": "ipython3",
   "version": "3.12.0"
  }
 },
 "nbformat": 4,
 "nbformat_minor": 2
}
