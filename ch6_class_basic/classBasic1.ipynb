{
 "cells": [
  {
   "cell_type": "code",
   "execution_count": 5,
   "metadata": {},
   "outputs": [
    {
     "name": "stdout",
     "output_type": "stream",
     "text": [
      "출력해보기 kmk : hi, 이름: 김민경, 나이: 20, 이메일: kmk@naver.com\n",
      "변경한 이메일 : kmkim@naver.com\n",
      "출력해보기 kmk : hi, 이름: 김민경, 나이: 20, 이메일: kmkim@naver.com\n",
      "출력해보기 상속받은 child1 : hi, 이름: 자식1, 나이: 20, 이메일: 자식1@naver.com\n",
      "출력해보기 상속받은 child2 : hi, 이름: 자식2, 나이: 20, 이메일: 자식2@naver.com\n",
      "나의 취미는 : netflix 보기\n"
     ]
    }
   ],
   "source": [
    "class Person():\n",
    "  # 매개변수 3개인 생성자, \n",
    "  # 해당 클래스 사용시, 반드시 호출되는 함수. \n",
    "  def __init__(self,name,age,email):\n",
    "    self.name = name\n",
    "    self.age = age\n",
    "    self.email = email\n",
    "  \n",
    "  def change_email (self, newEmail):\n",
    "    self.email = newEmail\n",
    "    print(f\"변경한 이메일 : {newEmail}\")\n",
    "  \n",
    "  def __str__(self):\n",
    "    return f\"hi, 이름: {self.name}, 나이: {self.age}, 이메일: {self.email}\"\n",
    "\n",
    "# 클래스 사용하기. \n",
    "kmk = Person(\"김민경\", 20, \"kmk@naver.com\")\n",
    "print(f\"출력해보기 kmk : {kmk}\")\n",
    "\n",
    "#이메일 변경해보기. \n",
    "kmk.change_email(\"kmkim@naver.com\")\n",
    "print(f\"출력해보기 kmk : {kmk}\")\n",
    "\n",
    "# 부모 클래스 : Person \n",
    "# 자식 클래스 : Child \n",
    "# 자식 클래스 : Child2 \n",
    "\n",
    "class Child(Person):\n",
    "  pass\n",
    "\n",
    "child1 = Child(\"자식1\",20,\"자식1@naver.com\")\n",
    "print(f\"출력해보기 상속받은 child1 : {child1}\")\n",
    "\n",
    "# 상속을 받았다면, 반드시 부모의 생성자를 먼저 호출한 후, 자기꺼를 생성자 호출 해야함. \n",
    "class Child2(Person):\n",
    "  def __init__(self, name, age, email,hobby):\n",
    "    super().__init__(name, age, email)\n",
    "    self.hobby = hobby\n",
    "\n",
    "  def show_hobby(self):\n",
    "    print(f\"나의 취미는 : {self.hobby}\")  \n",
    "\n",
    "#클래스 사용하기. \n",
    "child2 = Child2(\"자식2\",20,\"자식2@naver.com\",\"netflix 보기\")\n",
    "print(f\"출력해보기 상속받은 child2 : {child2}\")\n",
    "child2.show_hobby()\n",
    "  \n"
   ]
  },
  {
   "cell_type": "code",
   "execution_count": 8,
   "metadata": {},
   "outputs": [
    {
     "name": "stdout",
     "output_type": "stream",
     "text": [
      "동물 이름: 고냥이1, 소리 : 야옹\n",
      "동물 이름: 고냥이2, 소리 : 야옹\n",
      "동물 이름: 댕댕이1, 소리 : 멍멍\n",
      "동물 이름: 댕댕이2, 소리 : 멍멍\n",
      "동물 이름: 키키1, 소리 : 키키\n"
     ]
    }
   ],
   "source": [
    "#다형성 테스트\n",
    "class Animal:\n",
    "  def __init__(self,name):\n",
    "    self.name = name \n",
    "  def talk(self):\n",
    "    # NotImplementedError : 자식 클래스에만 해당 함수를 사용할수 있다. \n",
    "    raise NotImplementedError(\"Subclass must implement abstract method\")\n",
    "  \n",
    "#\n",
    "class Cat(Animal):\n",
    "  def talk(self):\n",
    "    return \"야옹\"\n",
    "\n",
    "class Dog(Animal):\n",
    "  def talk(self):\n",
    "    return \"멍멍\"\n",
    "\n",
    "# 상속 받은 클래스에서 만, talk 함수 사용여부 확인.\n",
    "# class Mongkey():\n",
    "#   def __init__(self,name):\n",
    "#     self.name = name\n",
    "    \n",
    "#  def talk(self):\n",
    "#    return \"키키\"\n",
    "    \n",
    "animals = [Cat(\"고냥이1\"),Cat(\"고냥이2\"), Dog(\"댕댕이1\"),Dog(\"댕댕이2\"),Mongkey(\"키키1\")]\n",
    "\n",
    "for animal in animals:\n",
    "  print(f\"동물 이름: {animal.name}, 소리 : {animal.talk()}\")"
   ]
  },
  {
   "cell_type": "code",
   "execution_count": 10,
   "metadata": {},
   "outputs": [
    {
     "name": "stdout",
     "output_type": "stream",
     "text": [
      "new item added\n",
      "new item added\n",
      "my_inventory.__items조회 : [<__main__.Product object at 0x0000022B1E450DA0>, <__main__.Product object at 0x0000022B1D243A40>]\n"
     ]
    }
   ],
   "source": [
    "# 가시성 테스트 \n",
    "class Product(object):\n",
    "  pass \n",
    "\n",
    "class Inventory(object):\n",
    "  # 생성자\n",
    "  def __init__(self):\n",
    "    self.__items = []\n",
    "\n",
    "  # 외부에서, 접근 가능하게 @property 속성 사용. \n",
    "  @property\n",
    "  def items(self):\n",
    "    return self.__items  \n",
    "  \n",
    "  # 아이템 추가 함수\n",
    "  def add_new_item (self,product):\n",
    "    if type(product) == Product:\n",
    "      self.__items.append(product)\n",
    "      print(f\"new item added\")\n",
    "    else:\n",
    "      raise ValueError(\"Invalid Item\")\n",
    "    \n",
    "  # 아이템 번호 확인 함수.  \n",
    "  def get_number_of_items(self):\n",
    "    return len(self.__items)\n",
    "\n",
    "# 클래스 사용 \n",
    "my_inventory = Inventory()\n",
    "my_inventory.add_new_item(Product())\n",
    "my_inventory.add_new_item(Product())\n",
    "\n",
    "# 문제가 되는 코드 \n",
    "# print(f\"my_inventory.__items조회 : {my_inventory.__items}\")\n",
    "# 해결하는 코드.\n",
    "print(f\"my_inventory.__items조회 : {my_inventory.items}\")"
   ]
  }
 ],
 "metadata": {
  "kernelspec": {
   "display_name": "Python 3",
   "language": "python",
   "name": "python3"
  },
  "language_info": {
   "codemirror_mode": {
    "name": "ipython",
    "version": 3
   },
   "file_extension": ".py",
   "mimetype": "text/x-python",
   "name": "python",
   "nbconvert_exporter": "python",
   "pygments_lexer": "ipython3",
   "version": "3.12.0"
  }
 },
 "nbformat": 4,
 "nbformat_minor": 2
}
