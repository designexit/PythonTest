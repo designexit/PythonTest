{
 "cells": [
  {
   "cell_type": "code",
   "execution_count": 3,
   "metadata": {},
   "outputs": [
    {
     "name": "stdout",
     "output_type": "stream",
     "text": [
      "함수 내부의 y값 : 3\n",
      "func1(x)값 조회 : 9\n",
      "함수 호출 후 값 조회 : 3\n"
     ]
    }
   ],
   "source": [
    "# call by value\n",
    "def func1(x): #함수의 매개변수로 x정의\n",
    "  y = x  #y는 지역변수, 함수 내부에 생성됨\n",
    "  print(f\"함수 내부의 y값 : {y}\")\n",
    "  x = 5 #지역변수\n",
    "  return y * y\n",
    "\n",
    "# 전역변수\n",
    "x = 3\n",
    "print(f\"func1(x)값 조회 : {func1(x)}\")\n",
    "print(f\"함수 호출 후 값 조회 : {x}\")\n"
   ]
  },
  {
   "cell_type": "code",
   "execution_count": 5,
   "metadata": {},
   "outputs": [
    {
     "name": "stdout",
     "output_type": "stream",
     "text": [
      "함수 호출 시 출력해 보기 : [0]\n",
      "함수 호출 시 list.append(1) 출력해 보기 : [0, 1]\n",
      "함수 호출 시 list = [2, 3] 출력해 보기 : [2, 3]\n"
     ]
    }
   ],
   "source": [
    "#call by ref\n",
    "def test(list): #list 매개변수\n",
    "  print(f\"함수 호출 시 출력해 보기 : {list}\")\n",
    "  # 여기까지가 전달 받은 list의 메모리 주소\n",
    "  list.append(1)\n",
    "  print(f\"함수 호출 시 list.append(1) 출력해 보기 : {list}\")\n",
    "  # 여기부터 새로운 list의 메모리 주소이고, 지역변수\n",
    "  list = [2, 3] #지역변수, 재할당\n",
    "  print(f\"함수 호출 시 list = [2, 3] 출력해 보기 : {list}\")\n",
    "\n",
    "#전역, 리스트\n",
    "list2 = [0]\n",
    "test(list2)"
   ]
  },
  {
   "cell_type": "code",
   "execution_count": 11,
   "metadata": {},
   "outputs": [
    {
     "name": "stdout",
     "output_type": "stream",
     "text": [
      "A(1,2)의 결과 : 3\n",
      "A(1,2,3,4,5)의 결과 : 15\n"
     ]
    }
   ],
   "source": [
    "# 가변인수\n",
    "def A(a,b,*args):\n",
    "  return a+b+sum(args)\n",
    "\n",
    "print(f\"A(1,2)의 결과 : {A(1,2)}\")\n",
    "print(f\"A(1,2,3,4,5)의 결과 : {A(1,2,3,4,5)}\")"
   ]
  },
  {
   "cell_type": "code",
   "execution_count": 12,
   "metadata": {},
   "outputs": [
    {
     "name": "stdout",
     "output_type": "stream",
     "text": [
      "A(1,2)의 결과 : (1, 2, [])\n",
      "A(1,2,3)의 결과 : (1, 2, [3])\n",
      "A(1,2,3,4,5)의 결과 : (1, 2, [3, 4, 5])\n"
     ]
    }
   ],
   "source": [
    "# 가변인수\n",
    "def A(*args):\n",
    "  x,y, *z = args\n",
    "  return x,y,z\n",
    "\n",
    "print(f\"A(1,2)의 결과 : {A(1,2)}\")\n",
    "print(f\"A(1,2,3)의 결과 : {A(1,2,3)}\")\n",
    "print(f\"A(1,2,3,4,5)의 결과 : {A(1,2,3,4,5)}\")"
   ]
  },
  {
   "cell_type": "code",
   "execution_count": 13,
   "metadata": {},
   "outputs": [
    {
     "name": "stdout",
     "output_type": "stream",
     "text": [
      "{'a': 1, 'b': 2, 'c': 3}\n",
      "key값에 해당하는 value 값 조회 : 1\n",
      "key값에 해당하는 value 값 조회 : 2\n",
      "key값에 해당하는 value 값 조회 : 3\n"
     ]
    }
   ],
   "source": [
    "# 가변인수\n",
    "def A(**args):\n",
    "  print(args)\n",
    "  print(f\"key값에 해당하는 value 값 조회 : {args[\"a\"]}\")\n",
    "  print(f\"key값에 해당하는 value 값 조회 : {args[\"b\"]}\")\n",
    "  print(f\"key값에 해당하는 value 값 조회 : {args[\"c\"]}\")\n",
    "\n",
    "A(a = 1, b = 2, c = 3)\n",
    "  "
   ]
  }
 ],
 "metadata": {
  "kernelspec": {
   "display_name": "Python 3",
   "language": "python",
   "name": "python3"
  },
  "language_info": {
   "codemirror_mode": {
    "name": "ipython",
    "version": 3
   },
   "file_extension": ".py",
   "mimetype": "text/x-python",
   "name": "python",
   "nbconvert_exporter": "python",
   "pygments_lexer": "ipython3",
   "version": "3.12.0"
  }
 },
 "nbformat": 4,
 "nbformat_minor": 2
}
