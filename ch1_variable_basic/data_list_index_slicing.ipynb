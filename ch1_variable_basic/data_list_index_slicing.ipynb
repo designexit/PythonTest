{
 "cells": [
  {
   "cell_type": "code",
   "execution_count": 18,
   "metadata": {},
   "outputs": [
    {
     "name": "stdout",
     "output_type": "stream",
     "text": [
      "리스트 출력해보기.:[1, 2, 3, 4.5, 'kmk']\n",
      "alist의 타입 : <class 'list'>\n",
      "a의 타입 : <class 'int'>\n",
      "인덱싱 : 0번째 요소 : 1\n",
      "슬라이싱 : [0:3] : [1, 2, 3]\n",
      "슬라이싱 : [0:4] : [1, 2, 3, 4.5]\n",
      "슬라이싱 전체출력 : [:] : [1, 2, 3, 4.5, 'kmk']\n",
      "슬라이싱 전체출력 : [::1] : [1, 2, 3, 4.5, 'kmk']\n",
      "슬라이싱 증가값 +2 : [::2] : [1, 3, 'kmk']\n",
      "슬라이싱 증가값 -1 : [::-1] : ['kmk', 4.5, 3, 2, 1]\n",
      "슬라이싱 증가값 [2:-1] : [2:-1] : [3, 4.5]\n",
      "슬라이싱 증가값 [2:4] : [2:4] : [3, 4.5]\n"
     ]
    }
   ],
   "source": [
    "#리스트, 주의. 다른형끼리 가능\n",
    "alist = [1,2,3,4.5, 'kmk']\n",
    "print(f\"리스트 출력해보기.:{alist}\")\n",
    "print(f\"alist의 타입 : {type(alist)}\")\n",
    "a = 3\n",
    "print(f\"a의 타입 : {type(a)}\")\n",
    "\n",
    "#인덱싱, 슬라이싱 [a:b:c], a:시작값, b:마자막값, c:증가값\n",
    "\n",
    "print(f\"인덱싱 : 0번째 요소 : {alist[0]}\")\n",
    "\n",
    "# 슬라이싱\n",
    "print(f\"슬라이싱 : [0:3] : {alist[0:3]}\")\n",
    "print(f\"슬라이싱 : [0:4] : {alist[0:4]}\")\n",
    "print(f\"슬라이싱 전체출력 : [:] : {alist[:]}\")\n",
    "print(f\"슬라이싱 전체출력 : [::1] : {alist[::1]}\")\n",
    "print(f\"슬라이싱 증가값 +2 : [::2] : {alist[::2]}\")\n",
    "print(f\"슬라이싱 증가값 -1 : [::-1] : {alist[::-1]}\")\n",
    "print(f\"슬라이싱 증가값 [2:-1] : [2:-1] : {alist[2:-1]}\")\n",
    "print(f\"슬라이싱 증가값 [2:4] : [2:4] : {alist[2:4]}\")\n",
    "\n"
   ]
  },
  {
   "cell_type": "code",
   "execution_count": 25,
   "metadata": {},
   "outputs": [
    {
     "name": "stdout",
     "output_type": "stream",
     "text": [
      "sumlist출력 : [1, 2, 3, 4.5, 'kmk', 1, 2, 3, 4.5, 'kmk']\n",
      "mullist : [1, 2, 3, 4.5, 'kmk', 1, 2, 3, 4.5, 'kmk', 1, 2, 3, 4.5, 'kmk']\n",
      "alist의 요소중 3이 있나요? : True\n",
      "alist의 요소중 kmk가 있나요? : True\n"
     ]
    }
   ],
   "source": [
    "# 리스트 덧셈, 곱셈, in연산자\n",
    "alist = [1,2,3,4.5, 'kmk']\n",
    "sumlist = alist + alist\n",
    "mullist = alist * 3\n",
    "print(f\"sumlist출력 : {sumlist}\")\n",
    "print(f\"mullist : {mullist}\")\n",
    "\n",
    "#in연산자\n",
    "print(f\"alist의 요소중 3이 있나요? : {3 in alist}\")\n",
    "print(f\"alist의 요소중 kmk가 있나요? : {'kmk' in alist}\")"
   ]
  },
  {
   "cell_type": "code",
   "execution_count": 35,
   "metadata": {},
   "outputs": [
    {
     "name": "stdout",
     "output_type": "stream",
     "text": [
      "alist 출력 : [1, 2, 3, 4.5, 'kmk', 'Nova']\n",
      "blist 출력 : [1, 2, 3, 4.5, 'kmk', 'nova', 'rose']\n",
      "alist 출력 : ['otter', 1, 2, 3, 4.5, 'kmk', 'Nova']\n",
      "alist 출력 : ['otter', 1, 3, 4.5, 'kmk', 'Nova']\n",
      "alist 출력 : ['otter 대신 덮어쓰기', 1, 3, 4.5, 'kmk', 'Nova']\n",
      "alist 출력 : ['otter 대신 덮어쓰기', 1, 3, 'kmk', 'Nova']\n"
     ]
    }
   ],
   "source": [
    "# append : 값을 추가\n",
    "alist = [1,2,3,4.5, 'kmk']\n",
    "alist.append(\"Nova\")\n",
    "print(f\"alist 출력 : {alist}\")\n",
    "\n",
    "# extend : 리스트 추가\n",
    "blist = [1,2,3,4.5, 'kmk']\n",
    "clist = ['nova', 'rose']\n",
    "blist.extend(clist)\n",
    "print(f\"blist 출력 : {blist}\")\n",
    "\n",
    "alist.insert(0, \"otter\")\n",
    "print(f\"alist 출력 : {alist}\")\n",
    "\n",
    "alist.remove(2)\n",
    "print(f\"alist 출력 : {alist}\")\n",
    "\n",
    "#재할당 요소에 직접 접근해서 덮어쓰기\n",
    "alist[0] = \"otter 대신 덮어쓰기\"\n",
    "print(f\"alist 출력 : {alist}\")\n",
    "\n",
    "#del함수 이용해서 해당 요소 삭제\n",
    "del alist[3]\n",
    "print(f\"alist 출력 : {alist}\")\n"
   ]
  },
  {
   "cell_type": "code",
   "execution_count": null,
   "metadata": {},
   "outputs": [],
   "source": [
    "#패킹, 언패킹\n",
    "a = [1,2,3]\n",
    "x,y,z = a\n",
    "print(f\"a리스트 : {a}, x:{x}\")"
   ]
  },
  {
   "cell_type": "code",
   "execution_count": 1,
   "metadata": {},
   "outputs": [
    {
     "name": "stdout",
     "output_type": "stream",
     "text": [
      " alist 와 blist 저장된 위치 주소값 비교 : False \n",
      " a 와 b 저장된 위치 주소값 비교 : False \n",
      " c 와 d 저장된 위치 주소값 비교 : True \n",
      " e 와 f 저장된 위치 주소값 비교 : True \n",
      " g 와 h 저장된 위치 주소값 비교 : False \n"
     ]
    }
   ],
   "source": [
    "#리스트의 요소의 메모리 위치 저장소 확인\n",
    "alist = [1,2,3]\n",
    "blist = [1,2,3]\n",
    "a = 300 \n",
    "b = 300 \n",
    "c = 1 \n",
    "d = 1\n",
    "# ~256 까지 같은 저장소를 사용한다.\n",
    "e = 256\n",
    "f = 256\n",
    "g = 257 \n",
    "h = 257\n",
    "print(f\" alist 와 blist 저장된 위치 주소값 비교 : {alist is blist} \")\n",
    "print(f\" a 와 b 저장된 위치 주소값 비교 : {a is b} \")\n",
    "print(f\" c 와 d 저장된 위치 주소값 비교 : {c is d} \")\n",
    "print(f\" e 와 f 저장된 위치 주소값 비교 : {e is f} \")\n",
    "print(f\" g 와 h 저장된 위치 주소값 비교 : {g is h} \")"
   ]
  }
 ],
 "metadata": {
  "kernelspec": {
   "display_name": "Python 3",
   "language": "python",
   "name": "python3"
  },
  "language_info": {
   "codemirror_mode": {
    "name": "ipython",
    "version": 3
   },
   "file_extension": ".py",
   "mimetype": "text/x-python",
   "name": "python",
   "nbconvert_exporter": "python",
   "pygments_lexer": "ipython3",
   "version": "3.12.0"
  }
 },
 "nbformat": 4,
 "nbformat_minor": 2
}
