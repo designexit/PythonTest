{
 "cells": [
  {
   "cell_type": "code",
   "execution_count": 20,
   "metadata": {},
   "outputs": [
    {
     "name": "stdout",
     "output_type": "stream",
     "text": [
      "기본 출력방식 이름 : 김민경 , 나이 : 20 , 키: 170.321\n",
      "이름출력하기\n",
      "이름 출력하기 : 김민경\n",
      "나이 출력하기 : 20\n",
      "키 출력하기 : 170.321000\n",
      "이름 : 김민경, 나이 : 20, 키 : 170.321\n"
     ]
    }
   ],
   "source": [
    "name=\"김민경\"\n",
    "age=20\n",
    "height=170.321\n",
    "# 기본 출력1\n",
    "print('기본 출력방식', '이름 :',name,', 나이 :',age,', 키:',height)\n",
    "print('이름출력하기')\n",
    "# 기본 출력 2\n",
    "print('이름 출력하기 : %s' %(name))\n",
    "print('나이 출력하기 : %d' %(age))\n",
    "print('키 출력하기 : %f' %(height))\n",
    "#기본 출력3\n",
    "print(f\"이름 : {name}, 나이 : {age}, 키 : {height}\")\n"
   ]
  },
  {
   "cell_type": "code",
   "execution_count": 23,
   "metadata": {},
   "outputs": [
    {
     "ename": "TypeError",
     "evalue": "'str' object is not callable",
     "output_type": "error",
     "traceback": [
      "\u001b[0;31m---------------------------------------------------------------------------\u001b[0m",
      "\u001b[0;31mTypeError\u001b[0m                                 Traceback (most recent call last)",
      "\u001b[1;32m/Users/minkyoungkim/Work Space/BITC/WorkSpace/09-Python/TestPython/ch0_test/ch1/data_type_input_output.ipynb 셀 2\u001b[0m line \u001b[0;36m7\n\u001b[1;32m      <a href='vscode-notebook-cell:/Users/minkyoungkim/Work%20Space/BITC/WorkSpace/09-Python/TestPython/ch0_test/ch1/data_type_input_output.ipynb#W1sZmlsZQ%3D%3D?line=3'>4</a>\u001b[0m flo1\u001b[39m=\u001b[39m\u001b[39m13.4364\u001b[39m\n\u001b[1;32m      <a href='vscode-notebook-cell:/Users/minkyoungkim/Work%20Space/BITC/WorkSpace/09-Python/TestPython/ch0_test/ch1/data_type_input_output.ipynb#W1sZmlsZQ%3D%3D?line=5'>6</a>\u001b[0m \u001b[39m#정수, 문자열 변환\u001b[39;00m\n\u001b[0;32m----> <a href='vscode-notebook-cell:/Users/minkyoungkim/Work%20Space/BITC/WorkSpace/09-Python/TestPython/ch0_test/ch1/data_type_input_output.ipynb#W1sZmlsZQ%3D%3D?line=6'>7</a>\u001b[0m a \u001b[39m=\u001b[39m \u001b[39mstr\u001b[39;49m(num1)\n\u001b[1;32m      <a href='vscode-notebook-cell:/Users/minkyoungkim/Work%20Space/BITC/WorkSpace/09-Python/TestPython/ch0_test/ch1/data_type_input_output.ipynb#W1sZmlsZQ%3D%3D?line=7'>8</a>\u001b[0m \u001b[39mprint\u001b[39m(\u001b[39mf\u001b[39m\u001b[39m\"\u001b[39m\u001b[39ma의 타입의 결과(함수 타입사용) : \u001b[39m\u001b[39m{\u001b[39;00m\u001b[39mtype\u001b[39m(a)\u001b[39m}\u001b[39;00m\u001b[39m\"\u001b[39m)\n\u001b[1;32m     <a href='vscode-notebook-cell:/Users/minkyoungkim/Work%20Space/BITC/WorkSpace/09-Python/TestPython/ch0_test/ch1/data_type_input_output.ipynb#W1sZmlsZQ%3D%3D?line=9'>10</a>\u001b[0m \u001b[39m# 문자열 정수변환, int()\u001b[39;00m\n",
      "\u001b[0;31mTypeError\u001b[0m: 'str' object is not callable"
     ]
    }
   ],
   "source": [
    "#정수, 실수, 문자열 각각 변환 및 입력 받아보기\n",
    "num1=20\n",
    "str1='kmk'\n",
    "str2='kmk'\n",
    "flo1=13.4364\n",
    "#정수, 문자열 변환\n",
    "a = str(num1)\n",
    "print(f\"a의 타입의 결과(함수 타입사용) : {type(a)}\")\n",
    "\n",
    "# 문자열 정수변환, int()\n",
    "b = str(str2)\n",
    "print(f\"b의 타입의 결과(함수 타입사용) : {type(b)}\")\n",
    "\n",
    "# input(), 표준입력\n",
    "c = input(\"본인이 좋아하는 숫자 선택해주세요: \")\n",
    "print(f\"c의 타입의 결과(함수 타입사용) : {type(c)}\")"
   ]
  }
 ],
 "metadata": {
  "kernelspec": {
   "display_name": "Python 3",
   "language": "python",
   "name": "python3"
  },
  "language_info": {
   "codemirror_mode": {
    "name": "ipython",
    "version": 3
   },
   "file_extension": ".py",
   "mimetype": "text/x-python",
   "name": "python",
   "nbconvert_exporter": "python",
   "pygments_lexer": "ipython3",
   "version": "3.12.0"
  }
 },
 "nbformat": 4,
 "nbformat_minor": 2
}
